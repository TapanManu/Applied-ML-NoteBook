{
  "nbformat": 4,
  "nbformat_minor": 0,
  "metadata": {
    "colab": {
      "name": "customplots.ipynb",
      "provenance": [],
      "authorship_tag": "ABX9TyMAAyUekaQtQOTTy8h6JGea",
      "include_colab_link": true
    },
    "kernelspec": {
      "name": "python3",
      "display_name": "Python 3"
    }
  },
  "cells": [
    {
      "cell_type": "markdown",
      "metadata": {
        "id": "view-in-github",
        "colab_type": "text"
      },
      "source": [
        "<a href=\"https://colab.research.google.com/github/TapanManu/Applied-ML-NoteBook/blob/master/customplots.ipynb\" target=\"_parent\"><img src=\"https://colab.research.google.com/assets/colab-badge.svg\" alt=\"Open In Colab\"/></a>"
      ]
    },
    {
      "cell_type": "code",
      "metadata": {
        "id": "DbKbuXXeTn9W",
        "colab_type": "code",
        "colab": {}
      },
      "source": [
        "% matplotlib inline\n",
        "import matplotlib.pyplot as plt\n",
        "import numpy as np"
      ],
      "execution_count": 0,
      "outputs": []
    },
    {
      "cell_type": "markdown",
      "metadata": {
        "id": "ZpigFhkGijea",
        "colab_type": "text"
      },
      "source": [
        "## Subplots"
      ]
    },
    {
      "cell_type": "code",
      "metadata": {
        "id": "gd9wCfS6T5Gj",
        "colab_type": "code",
        "outputId": "4a055541-dd97-42e9-bca5-d020545acd7a",
        "colab": {
          "base_uri": "https://localhost:8080/",
          "height": 282
        }
      },
      "source": [
        "linear_data = np.array([1,2,3,4,5,6,7])\n",
        "plt.figure()\n",
        "plt.subplot(1,2,1)\n",
        "plt.plot(linear_data,'-o')"
      ],
      "execution_count": 0,
      "outputs": [
        {
          "output_type": "execute_result",
          "data": {
            "text/plain": [
              "[<matplotlib.lines.Line2D at 0x7f263fc35898>]"
            ]
          },
          "metadata": {
            "tags": []
          },
          "execution_count": 24
        },
        {
          "output_type": "display_data",
          "data": {
            "image/png": "[encoded data removed]",
            "text/plain": [
              "<Figure size 432x288 with 1 Axes>"
            ]
          },
          "metadata": {
            "tags": [],
            "needs_background": "light"
          }
        }
      ]
    },
    {
      "cell_type": "code",
      "metadata": {
        "id": "k99X-ha-UIx9",
        "colab_type": "code",
        "outputId": "bab41463-ce08-44b1-914c-dfdb3115a565",
        "colab": {
          "base_uri": "https://localhost:8080/",
          "height": 282
        }
      },
      "source": [
        "square_data = linear_data ** 2\n",
        "plt.subplot(1,2,2)\n",
        "plt.plot(square_data,'-o')"
      ],
      "execution_count": 0,
      "outputs": [
        {
          "output_type": "execute_result",
          "data": {
            "text/plain": [
              "[<matplotlib.lines.Line2D at 0x7f263fb6a358>]"
            ]
          },
          "metadata": {
            "tags": []
          },
          "execution_count": 25
        },
        {
          "output_type": "display_data",
          "data": {
            "image/png": "[encoded data removed]",
            "text/plain": [
              "<Figure size 432x288 with 1 Axes>"
            ]
          },
          "metadata": {
            "tags": [],
            "needs_background": "light"
          }
        }
      ]
    },
    {
      "cell_type": "code",
      "metadata": {
        "id": "HAm808VRbB6Q",
        "colab_type": "code",
        "colab": {}
      },
      "source": [
        "Kochi = [100,200,134,165]\n",
        "Kottayam = [123,221,190,199]\n",
        "Kozhikode = [133,145,122,190]\n",
        "data = list(zip(Kochi,Kottayam,Kozhikode))\n",
        "rainfall_data = pd.DataFrame(data,index=['Jan','Apr','Sep','Dec'],columns=['Kochi','Kottayam','Kozhikode'])\n"
      ],
      "execution_count": 0,
      "outputs": []
    },
    {
      "cell_type": "code",
      "metadata": {
        "id": "juHVtd8Rb0EX",
        "colab_type": "code",
        "outputId": "4725c278-7640-4b55-c6c8-fc706d4570dc",
        "colab": {
          "base_uri": "https://localhost:8080/",
          "height": 175
        }
      },
      "source": [
        "rainfall_data"
      ],
      "execution_count": 0,
      "outputs": [
        {
          "output_type": "execute_result",
          "data": {
            "text/html": [
              "<div>\n",
              "<style scoped>\n",
              "    .dataframe tbody tr th:only-of-type {\n",
              "        vertical-align: middle;\n",
              "    }\n",
              "\n",
              "    .dataframe tbody tr th {\n",
              "        vertical-align: top;\n",
              "    }\n",
              "\n",
              "    .dataframe thead th {\n",
              "        text-align: right;\n",
              "    }\n",
              "</style>\n",
              "<table border=\"1\" class=\"dataframe\">\n",
              "  <thead>\n",
              "    <tr style=\"text-align: right;\">\n",
              "      <th></th>\n",
              "      <th>Kochi</th>\n",
              "      <th>Kottayam</th>\n",
              "      <th>Kozhikode</th>\n",
              "    </tr>\n",
              "  </thead>\n",
              "  <tbody>\n",
              "    <tr>\n",
              "      <th>Jan</th>\n",
              "      <td>100</td>\n",
              "      <td>123</td>\n",
              "      <td>133</td>\n",
              "    </tr>\n",
              "    <tr>\n",
              "      <th>Apr</th>\n",
              "      <td>200</td>\n",
              "      <td>221</td>\n",
              "      <td>145</td>\n",
              "    </tr>\n",
              "    <tr>\n",
              "      <th>Sep</th>\n",
              "      <td>134</td>\n",
              "      <td>190</td>\n",
              "      <td>122</td>\n",
              "    </tr>\n",
              "    <tr>\n",
              "      <th>Dec</th>\n",
              "      <td>165</td>\n",
              "      <td>199</td>\n",
              "      <td>190</td>\n",
              "    </tr>\n",
              "  </tbody>\n",
              "</table>\n",
              "</div>"
            ],
            "text/plain": [
              "     Kochi  Kottayam  Kozhikode\n",
              "Jan    100       123        133\n",
              "Apr    200       221        145\n",
              "Sep    134       190        122\n",
              "Dec    165       199        190"
            ]
          },
          "metadata": {
            "tags": []
          },
          "execution_count": 42
        }
      ]
    },
    {
      "cell_type": "code",
      "metadata": {
        "id": "6c3mq2GXb3V-",
        "colab_type": "code",
        "outputId": "be300a0b-9e7a-4d02-e38d-fb2e0fc6c7fd",
        "colab": {
          "base_uri": "https://localhost:8080/",
          "height": 312
        }
      },
      "source": [
        "plt.figure()\n",
        "month = ['Jan','Apr','Sep','Dec']\n",
        "plt.xlabel('Month')\n",
        "plt.ylabel('Rainfall in cm')\n",
        "\n",
        "ax1 = plt.subplot(1,3,1)\n",
        "plt.xlabel('Month')\n",
        "plt.ylabel('Rainfall in cm')\n",
        "plt.title('Kochi')\n",
        "plt.plot(month,Kochi,'-o',color='orange')\n",
        "\n",
        "ax2 = plt.subplot(1,3,2,sharey=ax1)\n",
        "plt.xlabel('Month')\n",
        "plt.title('Kottayam')\n",
        "plt.plot(month,Kottayam,'-o',color='blue')\n",
        "\n",
        "ax3 = plt.subplot(1,3,3,sharey=ax1)\n",
        "plt.xlabel('Month')\n",
        "plt.title('KOzhikode')\n",
        "plt.plot(month,Kozhikode,'-o',color='green')\n"
      ],
      "execution_count": 0,
      "outputs": [
        {
          "output_type": "execute_result",
          "data": {
            "text/plain": [
              "[<matplotlib.lines.Line2D at 0x7f263eab5a58>]"
            ]
          },
          "metadata": {
            "tags": []
          },
          "execution_count": 47
        },
        {
          "output_type": "display_data",
          "data": {
            "image/png": "[encoded data removed]",
            "text/plain": [
              "<Figure size 432x288 with 3 Axes>"
            ]
          },
          "metadata": {
            "tags": [],
            "needs_background": "light"
          }
        }
      ]
    },
    {
      "cell_type": "code",
      "metadata": {
        "id": "RezL-ty4ip3s",
        "colab_type": "code",
        "outputId": "fccaa27c-14f6-4378-c4d9-52e0f82532b3",
        "colab": {
          "base_uri": "https://localhost:8080/",
          "height": 282
        }
      },
      "source": [
        "fig,((ax1,ax2),(ax3,ax4)) = plt.subplots(2,2,sharey=True)\n",
        "ax2.plot(np.array([1,2,3,4]),'-o')"
      ],
      "execution_count": 0,
      "outputs": [
        {
          "output_type": "execute_result",
          "data": {
            "text/plain": [
              "[<matplotlib.lines.Line2D at 0x7f263e21e208>]"
            ]
          },
          "metadata": {
            "tags": []
          },
          "execution_count": 55
        },
        {
          "output_type": "display_data",
          "data": {
            "image/png": "[encoded data removed]",
            "text/plain": [
              "<Figure size 432x288 with 4 Axes>"
            ]
          },
          "metadata": {
            "tags": [],
            "needs_background": "light"
          }
        }
      ]
    },
    {
      "cell_type": "markdown",
      "metadata": {
        "id": "bFe2eP26l4ue",
        "colab_type": "text"
      },
      "source": [
        "#Box Plots"
      ]
    },
    {
      "cell_type": "code",
      "metadata": {
        "id": "yfhehcZKjke6",
        "colab_type": "code",
        "colab": {}
      },
      "source": [
        "import pandas as pd\n",
        "normal = np.random.normal(loc=0.0,scale=1.0,size=10000)\n",
        "random = np.random.random(10000)\n",
        "gamma = np.random.gamma(2,10000)\n",
        "df = pd.DataFrame({'normal':normal,'random':random,'gamma':gamma})"
      ],
      "execution_count": 0,
      "outputs": []
    },
    {
      "cell_type": "code",
      "metadata": {
        "id": "trOrpJ9tmlmv",
        "colab_type": "code",
        "outputId": "8e883760-8fe9-47d0-a77f-8fc127c5b840",
        "colab": {
          "base_uri": "https://localhost:8080/",
          "height": 300
        }
      },
      "source": [
        "df.describe()\n",
        "#a method of showing\n",
        "#aggregate statistics of various samples in a concise matter. "
      ],
      "execution_count": 0,
      "outputs": [
        {
          "output_type": "execute_result",
          "data": {
            "text/html": [
              "<div>\n",
              "<style scoped>\n",
              "    .dataframe tbody tr th:only-of-type {\n",
              "        vertical-align: middle;\n",
              "    }\n",
              "\n",
              "    .dataframe tbody tr th {\n",
              "        vertical-align: top;\n",
              "    }\n",
              "\n",
              "    .dataframe thead th {\n",
              "        text-align: right;\n",
              "    }\n",
              "</style>\n",
              "<table border=\"1\" class=\"dataframe\">\n",
              "  <thead>\n",
              "    <tr style=\"text-align: right;\">\n",
              "      <th></th>\n",
              "      <th>normal</th>\n",
              "      <th>random</th>\n",
              "      <th>gamma</th>\n",
              "    </tr>\n",
              "  </thead>\n",
              "  <tbody>\n",
              "    <tr>\n",
              "      <th>count</th>\n",
              "      <td>10000.000000</td>\n",
              "      <td>10000.000000</td>\n",
              "      <td>1.000000e+04</td>\n",
              "    </tr>\n",
              "    <tr>\n",
              "      <th>mean</th>\n",
              "      <td>-0.001572</td>\n",
              "      <td>0.498387</td>\n",
              "      <td>3.147592e+04</td>\n",
              "    </tr>\n",
              "    <tr>\n",
              "      <th>std</th>\n",
              "      <td>0.995371</td>\n",
              "      <td>0.288295</td>\n",
              "      <td>1.095086e-09</td>\n",
              "    </tr>\n",
              "    <tr>\n",
              "      <th>min</th>\n",
              "      <td>-3.955758</td>\n",
              "      <td>0.000110</td>\n",
              "      <td>3.147592e+04</td>\n",
              "    </tr>\n",
              "    <tr>\n",
              "      <th>25%</th>\n",
              "      <td>-0.670405</td>\n",
              "      <td>0.246632</td>\n",
              "      <td>3.147592e+04</td>\n",
              "    </tr>\n",
              "    <tr>\n",
              "      <th>50%</th>\n",
              "      <td>0.000504</td>\n",
              "      <td>0.500858</td>\n",
              "      <td>3.147592e+04</td>\n",
              "    </tr>\n",
              "    <tr>\n",
              "      <th>75%</th>\n",
              "      <td>0.669453</td>\n",
              "      <td>0.743670</td>\n",
              "      <td>3.147592e+04</td>\n",
              "    </tr>\n",
              "    <tr>\n",
              "      <th>max</th>\n",
              "      <td>3.366630</td>\n",
              "      <td>0.999847</td>\n",
              "      <td>3.147592e+04</td>\n",
              "    </tr>\n",
              "  </tbody>\n",
              "</table>\n",
              "</div>"
            ],
            "text/plain": [
              "             normal        random         gamma\n",
              "count  10000.000000  10000.000000  1.000000e+04\n",
              "mean      -0.001572      0.498387  3.147592e+04\n",
              "std        0.995371      0.288295  1.095086e-09\n",
              "min       -3.955758      0.000110  3.147592e+04\n",
              "25%       -0.670405      0.246632  3.147592e+04\n",
              "50%        0.000504      0.500858  3.147592e+04\n",
              "75%        0.669453      0.743670  3.147592e+04\n",
              "max        3.366630      0.999847  3.147592e+04"
            ]
          },
          "metadata": {
            "tags": []
          },
          "execution_count": 57
        }
      ]
    },
    {
      "cell_type": "code",
      "metadata": {
        "id": "_FQJ9x9imqoW",
        "colab_type": "code",
        "outputId": "646441c6-b5f0-4a3a-ebe1-afca85320512",
        "colab": {
          "base_uri": "https://localhost:8080/",
          "height": 265
        }
      },
      "source": [
        "plt.figure()\n",
        "_ = plt.boxplot(df['normal'],whis=[0,100])"
      ],
      "execution_count": 0,
      "outputs": [
        {
          "output_type": "display_data",
          "data": {
            "image/png": "[encoded data removed]",
            "text/plain": [
              "<Figure size 432x288 with 1 Axes>"
            ]
          },
          "metadata": {
            "tags": [],
            "needs_background": "light"
          }
        }
      ]
    },
    {
      "cell_type": "code",
      "metadata": {
        "id": "HJZ0CKMfpH4r",
        "colab_type": "code",
        "outputId": "805e868c-81bd-45ab-ce7e-67302c50f438",
        "colab": {
          "base_uri": "https://localhost:8080/",
          "height": 320
        }
      },
      "source": [
        "plt.figure()\n",
        "_ = plt.boxplot([df['normal'],df['random'],df['gamma']],whis='range')"
      ],
      "execution_count": 0,
      "outputs": [
        {
          "output_type": "stream",
          "text": [
            "/usr/local/lib/python3.6/dist-packages/ipykernel_launcher.py:2: MatplotlibDeprecationWarning: Setting whis to 'range' is deprecated since 3.2 and support for it will be removed two minor releases later; set it to [0, 100] to achieve the same effect.\n",
            "  \n"
          ],
          "name": "stderr"
        },
        {
          "output_type": "display_data",
          "data": {
            "image/png": "[encoded data removed]",
            "text/plain": [
              "<Figure size 432x288 with 1 Axes>"
            ]
          },
          "metadata": {
            "tags": [],
            "needs_background": "light"
          }
        }
      ]
    },
    {
      "cell_type": "code",
      "metadata": {
        "id": "XZZOKgL2pnq-",
        "colab_type": "code",
        "outputId": "7d59417c-4b32-4686-abc8-db9cf1528bf1",
        "colab": {
          "base_uri": "https://localhost:8080/",
          "height": 278
        }
      },
      "source": [
        "plt.figure()\n",
        "_ = plt.hist(df['gamma'], bins=100)"
      ],
      "execution_count": 0,
      "outputs": [
        {
          "output_type": "display_data",
          "data": {
            "image/png": "[encoded data removed]",
            "text/plain": [
              "<Figure size 432x288 with 1 Axes>"
            ]
          },
          "metadata": {
            "tags": [],
            "needs_background": "light"
          }
        }
      ]
    },
    {
      "cell_type": "markdown",
      "metadata": {
        "id": "PhdWfuHZp1Wq",
        "colab_type": "text"
      },
      "source": [
        "## Heatmaps"
      ]
    },
    {
      "cell_type": "code",
      "metadata": {
        "id": "gDvcOMVFpuIk",
        "colab_type": "code",
        "colab": {
          "base_uri": "https://localhost:8080/",
          "height": 265
        },
        "outputId": "e6f31bc7-d0bb-4764-c3ae-b36d59ab7ac5"
      },
      "source": [
        "Y = np.random.normal(loc=0.0,scale=1.0,size=10000)\n",
        "X = np.random.random(10000)\n",
        "_=plt.hist2d(X,Y,bins=25)"
      ],
      "execution_count": 67,
      "outputs": [
        {
          "output_type": "display_data",
          "data": {
            "image/png": "[encoded data removed]",
            "text/plain": [
              "<Figure size 432x288 with 1 Axes>"
            ]
          },
          "metadata": {
            "tags": [],
            "needs_background": "light"
          }
        }
      ]
    },
    {
      "cell_type": "code",
      "metadata": {
        "id": "GbznbJ8rvQLY",
        "colab_type": "code",
        "colab": {}
      },
      "source": [
        ""
      ],
      "execution_count": 0,
      "outputs": []
    }
  ]
}