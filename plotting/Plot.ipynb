{
  "nbformat": 4,
  "nbformat_minor": 0,
  "metadata": {
    "colab": {
      "name": "Plot.ipynb",
      "provenance": [],
      "authorship_tag": "ABX9TyMnQvl9BVU9yl5bNtFTuhVM",
      "include_colab_link": true
    },
    "kernelspec": {
      "name": "python3",
      "display_name": "Python 3"
    }
  },
  "cells": [
    {
      "cell_type": "markdown",
      "metadata": {
        "id": "view-in-github",
        "colab_type": "text"
      },
      "source": [
        "<a href=\"https://colab.research.google.com/github/TapanManu/Applied-ML-NoteBook/blob/master/Plot.ipynb\" target=\"_parent\"><img src=\"https://colab.research.google.com/assets/colab-badge.svg\" alt=\"Open In Colab\"/></a>"
      ]
    },
    {
      "cell_type": "code",
      "metadata": {
        "id": "WBFu04Kjvy0k",
        "colab_type": "code",
        "colab": {}
      },
      "source": [
        "\n",
        "%matplotlib inline"
      ],
      "execution_count": 0,
      "outputs": []
    },
    {
      "cell_type": "markdown",
      "metadata": {
        "id": "J5nB6Xu02N97",
        "colab_type": "text"
      },
      "source": [
        "inline is backend provided here"
      ]
    },
    {
      "cell_type": "code",
      "metadata": {
        "id": "kxg_sEHgwFr6",
        "colab_type": "code",
        "colab": {}
      },
      "source": [
        "import matplotlib.pyplot as plt\n",
        "plt.plot?"
      ],
      "execution_count": 0,
      "outputs": []
    },
    {
      "cell_type": "markdown",
      "metadata": {
        "id": "V7u9YTr82R0a",
        "colab_type": "text"
      },
      "source": [
        "pyplot is scripting tool that acts as an interface between artist(frontend) and backend"
      ]
    },
    {
      "cell_type": "code",
      "metadata": {
        "id": "eZik0gpCynUy",
        "colab_type": "code",
        "colab": {
          "base_uri": "https://localhost:8080/",
          "height": 282
        },
        "outputId": "885373d4-6986-4c0a-b051-b405014dfd4a"
      },
      "source": [
        "plt.plot(3,2,'x')"
      ],
      "execution_count": 20,
      "outputs": [
        {
          "output_type": "execute_result",
          "data": {
            "text/plain": [
              "[<matplotlib.lines.Line2D at 0x7f149bc0ce48>]"
            ]
          },
          "metadata": {
            "tags": []
          },
          "execution_count": 20
        },
        {
          "output_type": "display_data",
          "data": {
            "image/png": "[encoded data removed]",
            "text/plain": [
              "<Figure size 432x288 with 1 Axes>"
            ]
          },
          "metadata": {
            "tags": [],
            "needs_background": "light"
          }
        }
      ]
    },
    {
      "cell_type": "markdown",
      "metadata": {
        "id": "WFcm12Ac1Tmy",
        "colab_type": "text"
      },
      "source": [
        "Deep Going"
      ]
    },
    {
      "cell_type": "code",
      "metadata": {
        "id": "v7JFpUi8zA_M",
        "colab_type": "code",
        "colab": {
          "base_uri": "https://localhost:8080/",
          "height": 52
        },
        "outputId": "a7d4e569-91c7-4a80-f84c-0e0ba3a245c6"
      },
      "source": [
        "plt.figure()"
      ],
      "execution_count": 21,
      "outputs": [
        {
          "output_type": "execute_result",
          "data": {
            "text/plain": [
              "<Figure size 432x288 with 0 Axes>"
            ]
          },
          "metadata": {
            "tags": []
          },
          "execution_count": 21
        },
        {
          "output_type": "display_data",
          "data": {
            "text/plain": [
              "<Figure size 432x288 with 0 Axes>"
            ]
          },
          "metadata": {
            "tags": []
          }
        }
      ]
    },
    {
      "cell_type": "code",
      "metadata": {
        "id": "vnoYMpBY08-x",
        "colab_type": "code",
        "colab": {
          "base_uri": "https://localhost:8080/",
          "height": 265
        },
        "outputId": "0f0b0d45-bcb2-4076-f999-9c0258b0d0da"
      },
      "source": [
        "plt.plot(3,2,'o')\n",
        "ax = plt.gca()"
      ],
      "execution_count": 22,
      "outputs": [
        {
          "output_type": "display_data",
          "data": {
            "image/png": "[encoded data removed]",
            "text/plain": [
              "<Figure size 432x288 with 1 Axes>"
            ]
          },
          "metadata": {
            "tags": [],
            "needs_background": "light"
          }
        }
      ]
    },
    {
      "cell_type": "markdown",
      "metadata": {
        "id": "XNWqcWae1Xt-",
        "colab_type": "text"
      },
      "source": [
        "## Getting Familiarised with axis"
      ]
    },
    {
      "cell_type": "code",
      "metadata": {
        "id": "suCRicMn1EEB",
        "colab_type": "code",
        "colab": {
          "base_uri": "https://localhost:8080/",
          "height": 269
        },
        "outputId": "984cfd72-852b-4265-abd8-f4b7949fa6e2"
      },
      "source": [
        "ax = plt.axis([0,6,0,10])"
      ],
      "execution_count": 23,
      "outputs": [
        {
          "output_type": "display_data",
          "data": {
            "image/png": "[encoded data removed]",
            "text/plain": [
              "<Figure size 432x288 with 1 Axes>"
            ]
          },
          "metadata": {
            "tags": [],
            "needs_background": "light"
          }
        }
      ]
    },
    {
      "cell_type": "markdown",
      "metadata": {
        "id": "nuHWx-Gs1633",
        "colab_type": "text"
      },
      "source": [
        "## Scatter Plots"
      ]
    },
    {
      "cell_type": "code",
      "metadata": {
        "id": "_BUu3keO1O1G",
        "colab_type": "code",
        "colab": {
          "base_uri": "https://localhost:8080/",
          "height": 282
        },
        "outputId": "a347fb9c-f6b3-46c5-da6e-12d1e7666faa"
      },
      "source": [
        "import numpy as np\n",
        "x = np.array([1,2,3,4,5,6,7,8])\n",
        "y=x\n",
        "\n",
        "plt.figure()\n",
        "plt.scatter(x,y)"
      ],
      "execution_count": 29,
      "outputs": [
        {
          "output_type": "execute_result",
          "data": {
            "text/plain": [
              "<matplotlib.collections.PathCollection at 0x7f1499000518>"
            ]
          },
          "metadata": {
            "tags": []
          },
          "execution_count": 29
        },
        {
          "output_type": "display_data",
          "data": {
            "image/png": "[encoded data removed]",
            "text/plain": [
              "<Figure size 432x288 with 1 Axes>"
            ]
          },
          "metadata": {
            "tags": [],
            "needs_background": "light"
          }
        }
      ]
    },
    {
      "cell_type": "markdown",
      "metadata": {
        "id": "t9AyHEx13PwU",
        "colab_type": "text"
      },
      "source": [
        "Adding colors"
      ]
    },
    {
      "cell_type": "code",
      "metadata": {
        "id": "zAptLQyH2-8z",
        "colab_type": "code",
        "colab": {
          "base_uri": "https://localhost:8080/",
          "height": 282
        },
        "outputId": "2009e154-ed83-472d-89c2-bd8eed9c961b"
      },
      "source": [
        "plt.figure()\n",
        "x = np.array([1,2,3,4,5])\n",
        "y=x\n",
        "\n",
        "colors = ['green']*(len(x)-2)\n",
        "colors.append('orange')\n",
        "colors.append('red')\n",
        "\n",
        "plt.scatter(x,y,s=100,c = colors)"
      ],
      "execution_count": 34,
      "outputs": [
        {
          "output_type": "execute_result",
          "data": {
            "text/plain": [
              "<matplotlib.collections.PathCollection at 0x7f1498cfefd0>"
            ]
          },
          "metadata": {
            "tags": []
          },
          "execution_count": 34
        },
        {
          "output_type": "display_data",
          "data": {
            "image/png": "[encoded data removed]",
            "text/plain": [
              "<Figure size 432x288 with 1 Axes>"
            ]
          },
          "metadata": {
            "tags": [],
            "needs_background": "light"
          }
        }
      ]
    },
    {
      "cell_type": "code",
      "metadata": {
        "id": "J6jNUCKZ35VX",
        "colab_type": "code",
        "colab": {
          "base_uri": "https://localhost:8080/",
          "height": 52
        },
        "outputId": "15dd855e-3530-4aac-89a6-fbb4fae00b71"
      },
      "source": [
        "zip_generator = zip([1,2,3,4,5], [6,1,8,9,10])\n",
        "z= list(zip_generator)\n",
        "print(z)\n",
        "print(*z)"
      ],
      "execution_count": 82,
      "outputs": [
        {
          "output_type": "stream",
          "text": [
            "[(1, 6), (2, 1), (3, 8), (4, 9), (5, 10)]\n",
            "(1, 6) (2, 1) (3, 8) (4, 9) (5, 10)\n"
          ],
          "name": "stdout"
        }
      ]
    },
    {
      "cell_type": "code",
      "metadata": {
        "id": "l5QfpwPK4pBU",
        "colab_type": "code",
        "colab": {
          "base_uri": "https://localhost:8080/",
          "height": 34
        },
        "outputId": "4edf27bb-4ff9-434b-b259-1b28c37e64d9"
      },
      "source": [
        "test = z[:]\n",
        "z2 = list(test)\n",
        "z2\n"
      ],
      "execution_count": 71,
      "outputs": [
        {
          "output_type": "execute_result",
          "data": {
            "text/plain": [
              "[(1, 6), (2, 1), (3, 8), (4, 9), (5, 10)]"
            ]
          },
          "metadata": {
            "tags": []
          },
          "execution_count": 71
        }
      ]
    },
    {
      "cell_type": "code",
      "metadata": {
        "id": "ezFJyGYP8GTt",
        "colab_type": "code",
        "colab": {
          "base_uri": "https://localhost:8080/",
          "height": 34
        },
        "outputId": "da07374b-5551-4bbf-e8be-eca888c0e042"
      },
      "source": [
        "zip_generator = zip([1,2,3,4,5], [6,7,8,9,10])\n",
        "# The single star * unpacks a collection into positional arguments\n",
        "print(*zip_generator)\n",
        "# the above prints:\n",
        "# (1, 6) (2, 7) (3, 8) (4, 9) (5, 10)"
      ],
      "execution_count": 74,
      "outputs": [
        {
          "output_type": "stream",
          "text": [
            "(1, 6) (2, 7) (3, 8) (4, 9) (5, 10)\n"
          ],
          "name": "stdout"
        }
      ]
    },
    {
      "cell_type": "code",
      "metadata": {
        "id": "UCOR3M7S9dd-",
        "colab_type": "code",
        "colab": {
          "base_uri": "https://localhost:8080/",
          "height": 52
        },
        "outputId": "6230caed-f641-457e-ef20-663041fbcf7b"
      },
      "source": [
        "x,y = zip(*z)\n",
        "print(x)\n",
        "print(y)"
      ],
      "execution_count": 85,
      "outputs": [
        {
          "output_type": "stream",
          "text": [
            "(1, 2, 3, 4, 5)\n",
            "(6, 1, 8, 9, 10)\n"
          ],
          "name": "stdout"
        }
      ]
    },
    {
      "cell_type": "code",
      "metadata": {
        "id": "buk9CbjS9ssL",
        "colab_type": "code",
        "colab": {
          "base_uri": "https://localhost:8080/",
          "height": 34
        },
        "outputId": "8009c1d8-efa3-440c-a62a-51b00b3f5edb"
      },
      "source": [
        "# use zip to convert 5 tuples with 2 elements each to 2 tuples with 5 elements each\n",
        "print(list(zip((1, 6), (2, 7), (3, 8), (4, 9), (5, 10))))\n",
        "# the above prints:\n",
        "# [(1, 2, 3, 4, 5), (6, 7, 8, 9, 10)]\n"
      ],
      "execution_count": 86,
      "outputs": [
        {
          "output_type": "stream",
          "text": [
            "[(1, 2, 3, 4, 5), (6, 7, 8, 9, 10)]\n"
          ],
          "name": "stdout"
        }
      ]
    },
    {
      "cell_type": "markdown",
      "metadata": {
        "id": "uCsj8QDi-YJY",
        "colab_type": "text"
      },
      "source": [
        "Writing meaningful data"
      ]
    },
    {
      "cell_type": "code",
      "metadata": {
        "id": "xfhovAIg-c68",
        "colab_type": "code",
        "colab": {
          "base_uri": "https://localhost:8080/",
          "height": 312
        },
        "outputId": "601573d1-0cff-48ca-e250-f7910df56b9d"
      },
      "source": [
        "plt.figure()\n",
        "plt.xlabel('Time')\n",
        "plt.ylabel('Growth of oranges')\n",
        "plt.title('study of oranges and seasons')\n",
        "x = np.array([1,2,3,4,5])\n",
        "y = x**2\n",
        "plt.scatter(x[:2],y[:2],s=50,c='blue',label='short oranges')\n",
        "plt.scatter(x[2:],y[2:],s=100,c='red',label='large oranges')\n",
        "plt.legend()"
      ],
      "execution_count": 91,
      "outputs": [
        {
          "output_type": "execute_result",
          "data": {
            "text/plain": [
              "<matplotlib.legend.Legend at 0x7f1499074940>"
            ]
          },
          "metadata": {
            "tags": []
          },
          "execution_count": 91
        },
        {
          "output_type": "display_data",
          "data": {
            "image/png": "[encoded data removed]",
            "text/plain": [
              "<Figure size 432x288 with 1 Axes>"
            ]
          },
          "metadata": {
            "tags": [],
            "needs_background": "light"
          }
        }
      ]
    },
    {
      "cell_type": "code",
      "metadata": {
        "id": "g2bttP8w_WCX",
        "colab_type": "code",
        "colab": {
          "base_uri": "https://localhost:8080/",
          "height": 312
        },
        "outputId": "9f66993f-cdad-4193-be59-0bc3d521323f"
      },
      "source": [
        "plt.figure()\n",
        "plt.xlabel('Time')\n",
        "plt.ylabel('Growth of oranges')\n",
        "plt.title('study of oranges and seasons')\n",
        "x = np.array([1,2,3,4,5])\n",
        "y = x**2\n",
        "plt.scatter(x[:2],y[:2],s=50,c='blue',label='short oranges')\n",
        "plt.scatter(x[2:],y[2:],s=100,c='red',label='large oranges')\n",
        "plt.legend(loc=4,frameon=False,title = 'legend')"
      ],
      "execution_count": 95,
      "outputs": [
        {
          "output_type": "execute_result",
          "data": {
            "text/plain": [
              "<matplotlib.legend.Legend at 0x7f14990982b0>"
            ]
          },
          "metadata": {
            "tags": []
          },
          "execution_count": 95
        },
        {
          "output_type": "display_data",
          "data": {
            "image/png": "[encoded data removed]",
            "text/plain": [
              "<Figure size 432x288 with 1 Axes>"
            ]
          },
          "metadata": {
            "tags": [],
            "needs_background": "light"
          }
        }
      ]
    },
    {
      "cell_type": "markdown",
      "metadata": {
        "id": "KdeOEu_eAUYR",
        "colab_type": "text"
      },
      "source": [
        "## Line Plots"
      ]
    },
    {
      "cell_type": "code",
      "metadata": {
        "id": "y1uQHcqn_yv6",
        "colab_type": "code",
        "colab": {
          "base_uri": "https://localhost:8080/",
          "height": 282
        },
        "outputId": "499fc46f-2042-45f2-c702-252e8e873b15"
      },
      "source": [
        "import numpy as np\n",
        "x = np.array([1,2,3,4,5])\n",
        "y=x\n",
        "plt.plot(x,y,'-o')"
      ],
      "execution_count": 101,
      "outputs": [
        {
          "output_type": "execute_result",
          "data": {
            "text/plain": [
              "[<matplotlib.lines.Line2D at 0x7f1498a55198>]"
            ]
          },
          "metadata": {
            "tags": []
          },
          "execution_count": 101
        },
        {
          "output_type": "display_data",
          "data": {
            "image/png": "[encoded data removed]",
            "text/plain": [
              "<Figure size 432x288 with 1 Axes>"
            ]
          },
          "metadata": {
            "tags": [],
            "needs_background": "light"
          }
        }
      ]
    },
    {
      "cell_type": "markdown",
      "metadata": {
        "id": "2kPNL8BWBoyx",
        "colab_type": "text"
      },
      "source": [
        "Different styles of line plotting"
      ]
    },
    {
      "cell_type": "code",
      "metadata": {
        "id": "fPD_2L-IBa2A",
        "colab_type": "code",
        "colab": {
          "base_uri": "https://localhost:8080/",
          "height": 282
        },
        "outputId": "4679b86a-9037-425f-832b-28ae80788c40"
      },
      "source": [
        "x = np.array([1,2,3,4,5])\n",
        "y=x\n",
        "plt.plot(x,y,'-')"
      ],
      "execution_count": 103,
      "outputs": [
        {
          "output_type": "execute_result",
          "data": {
            "text/plain": [
              "[<matplotlib.lines.Line2D at 0x7f149902b748>]"
            ]
          },
          "metadata": {
            "tags": []
          },
          "execution_count": 103
        },
        {
          "output_type": "display_data",
          "data": {
            "image/png": "[encoded data removed]",
            "text/plain": [
              "<Figure size 432x288 with 1 Axes>"
            ]
          },
          "metadata": {
            "tags": [],
            "needs_background": "light"
          }
        }
      ]
    },
    {
      "cell_type": "code",
      "metadata": {
        "id": "VWrFBZouBeFN",
        "colab_type": "code",
        "colab": {
          "base_uri": "https://localhost:8080/",
          "height": 282
        },
        "outputId": "6d1794bb-286e-4e08-b801-402a08101340"
      },
      "source": [
        "plt.plot(x,y,'x-')"
      ],
      "execution_count": 105,
      "outputs": [
        {
          "output_type": "execute_result",
          "data": {
            "text/plain": [
              "[<matplotlib.lines.Line2D at 0x7f1498c4af60>]"
            ]
          },
          "metadata": {
            "tags": []
          },
          "execution_count": 105
        },
        {
          "output_type": "display_data",
          "data": {
            "image/png": "[encoded data removed]",
            "text/plain": [
              "<Figure size 432x288 with 1 Axes>"
            ]
          },
          "metadata": {
            "tags": [],
            "needs_background": "light"
          }
        }
      ]
    },
    {
      "cell_type": "code",
      "metadata": {
        "id": "2RuL90pJApRq",
        "colab_type": "code",
        "colab": {
          "base_uri": "https://localhost:8080/",
          "height": 282
        },
        "outputId": "16bd64e8-b1d8-415e-cf3a-bcf6e1f6db04"
      },
      "source": [
        "linear = np.array([1,2,3,4,5])\n",
        "exp = linear**2\n",
        "plt.plot(linear,'-o',exp,'-o')\n",
        "# no x axis values only y values\n",
        "\n",
        "plt.legend(['linear','exponential'])"
      ],
      "execution_count": 106,
      "outputs": [
        {
          "output_type": "execute_result",
          "data": {
            "text/plain": [
              "<matplotlib.legend.Legend at 0x7f14991adac8>"
            ]
          },
          "metadata": {
            "tags": []
          },
          "execution_count": 106
        },
        {
          "output_type": "display_data",
          "data": {
            "image/png": "[encoded data removed]",
            "text/plain": [
              "<Figure size 432x288 with 1 Axes>"
            ]
          },
          "metadata": {
            "tags": [],
            "needs_background": "light"
          }
        }
      ]
    },
    {
      "cell_type": "code",
      "metadata": {
        "id": "yAy01wvvA1uC",
        "colab_type": "code",
        "colab": {
          "base_uri": "https://localhost:8080/",
          "height": 285
        },
        "outputId": "ea4b50bb-39dc-473c-a7d3-2f00bec9d995"
      },
      "source": [
        "plt.plot([22,44],'--r')"
      ],
      "execution_count": 98,
      "outputs": [
        {
          "output_type": "execute_result",
          "data": {
            "text/plain": [
              "[<matplotlib.lines.Line2D at 0x7f1498ba5080>]"
            ]
          },
          "metadata": {
            "tags": []
          },
          "execution_count": 98
        },
        {
          "output_type": "display_data",
          "data": {
            "image/png": "[encoded data removed]",
            "text/plain": [
              "<Figure size 432x288 with 1 Axes>"
            ]
          },
          "metadata": {
            "tags": [],
            "needs_background": "light"
          }
        }
      ]
    },
    {
      "cell_type": "code",
      "metadata": {
        "id": "SuxwJnkkBRnr",
        "colab_type": "code",
        "colab": {
          "base_uri": "https://localhost:8080/",
          "height": 300
        },
        "outputId": "c415bf02-c156-465a-b11f-781bf0e5c63a"
      },
      "source": [
        "plt.gca().fill_between(range(len(linear)), \n",
        "                       linear, exp, \n",
        "                       facecolor='blue', \n",
        "                       alpha=0.25)\n",
        "linear = np.array([1,2,3,4,5])\n",
        "exp = linear**2\n",
        "plt.plot(linear,'-o',exp,'-o')\n"
      ],
      "execution_count": 109,
      "outputs": [
        {
          "output_type": "execute_result",
          "data": {
            "text/plain": [
              "[<matplotlib.lines.Line2D at 0x7f149882f860>,\n",
              " <matplotlib.lines.Line2D at 0x7f1498790a20>]"
            ]
          },
          "metadata": {
            "tags": []
          },
          "execution_count": 109
        },
        {
          "output_type": "display_data",
          "data": {
            "image/png": "[encoded data removed]",
            "text/plain": [
              "<Figure size 432x288 with 1 Axes>"
            ]
          },
          "metadata": {
            "tags": [],
            "needs_background": "light"
          }
        }
      ]
    },
    {
      "cell_type": "markdown",
      "metadata": {
        "id": "cFtZz81lCecg",
        "colab_type": "text"
      },
      "source": [
        "Filling colors in between"
      ]
    },
    {
      "cell_type": "code",
      "metadata": {
        "id": "b0_VY_QCDhGr",
        "colab_type": "code",
        "colab": {
          "base_uri": "https://localhost:8080/",
          "height": 278
        },
        "outputId": "134b6d53-495c-45f9-893f-7f20d5f2122b"
      },
      "source": [
        "#plt.gca()   gets the current axes\n",
        "x = plt.gca().xaxis\n",
        "edit\n",
        "# rotate the tick labels for the x axis\n",
        "for item in x.get_ticklabels():\n",
        "    item.set_rotation(45)"
      ],
      "execution_count": 114,
      "outputs": [
        {
          "output_type": "display_data",
          "data": {
            "image/png": "[encoded data removed]",
            "text/plain": [
              "<Figure size 432x288 with 1 Axes>"
            ]
          },
          "metadata": {
            "tags": [],
            "needs_background": "light"
          }
        }
      ]
    },
    {
      "cell_type": "markdown",
      "metadata": {
        "id": "6v2-Vfv7EVYm",
        "colab_type": "text"
      },
      "source": [
        "Observe that numbers in x axis are rotated by 45 degree.Here ,it can be utilised in many applications like long texts in x axis or in case of dates"
      ]
    },
    {
      "cell_type": "markdown",
      "metadata": {
        "id": "81Ji59yREtju",
        "colab_type": "text"
      },
      "source": [
        "## Bar Charts"
      ]
    },
    {
      "cell_type": "code",
      "metadata": {
        "id": "pDX2gPkIErFg",
        "colab_type": "code",
        "colab": {
          "base_uri": "https://localhost:8080/",
          "height": 282
        },
        "outputId": "e47aa030-9e76-4fd1-9206-57b3be76c3f2"
      },
      "source": [
        "x = np.array([1,2,3,4,5])\n",
        "y = range(len(x))\n",
        "\n",
        "plt.bar(x,y,width=0.2)"
      ],
      "execution_count": 118,
      "outputs": [
        {
          "output_type": "execute_result",
          "data": {
            "text/plain": [
              "<BarContainer object of 5 artists>"
            ]
          },
          "metadata": {
            "tags": []
          },
          "execution_count": 118
        },
        {
          "output_type": "display_data",
          "data": {
            "image/png": "[encoded data removed]",
            "text/plain": [
              "<Figure size 432x288 with 1 Axes>"
            ]
          },
          "metadata": {
            "tags": [],
            "needs_background": "light"
          }
        }
      ]
    },
    {
      "cell_type": "code",
      "metadata": {
        "id": "-q0CuwTvFZCN",
        "colab_type": "code",
        "colab": {
          "base_uri": "https://localhost:8080/",
          "height": 282
        },
        "outputId": "5bfe8dcd-3f4e-4367-8024-9ea48ac7db27"
      },
      "source": [
        "z=[]\n",
        "for item in x:\n",
        "  z.append(item+0.3)\n",
        "\n",
        "\n",
        "plt.bar(x,z,width=0.2,color='red')\n",
        "y = range(len(x))\n",
        "\n",
        "plt.bar(x,y,width=0.2)"
      ],
      "execution_count": 123,
      "outputs": [
        {
          "output_type": "execute_result",
          "data": {
            "text/plain": [
              "<BarContainer object of 5 artists>"
            ]
          },
          "metadata": {
            "tags": []
          },
          "execution_count": 123
        },
        {
          "output_type": "display_data",
          "data": {
            "image/png": "[encoded data removed]",
            "text/plain": [
              "<Figure size 432x288 with 1 Axes>"
            ]
          },
          "metadata": {
            "tags": [],
            "needs_background": "light"
          }
        }
      ]
    },
    {
      "cell_type": "code",
      "metadata": {
        "id": "LNGPKYjzGwAB",
        "colab_type": "code",
        "colab": {}
      },
      "source": [
        "linear_data = [1,2,3,4,5]"
      ],
      "execution_count": 0,
      "outputs": []
    },
    {
      "cell_type": "code",
      "metadata": {
        "id": "meXvjVuTGcHL",
        "colab_type": "code",
        "colab": {
          "base_uri": "https://localhost:8080/",
          "height": 282
        },
        "outputId": "8aba6664-0601-4fb9-a047-fc71582df503"
      },
      "source": [
        "from random import randint\n",
        "linear_err = [randint(0,15) for x in range(len(linear_data))] \n",
        "\n",
        "# This will plot a new set of bars with errorbars using the list of random error values\n",
        "plt.bar(y, linear_data, width = 0.3, yerr=linear_err)"
      ],
      "execution_count": 126,
      "outputs": [
        {
          "output_type": "execute_result",
          "data": {
            "text/plain": [
              "<BarContainer object of 5 artists>"
            ]
          },
          "metadata": {
            "tags": []
          },
          "execution_count": 126
        },
        {
          "output_type": "display_data",
          "data": {
            "image/png": "[encoded data removed]",
            "text/plain": [
              "<Figure size 432x288 with 1 Axes>"
            ]
          },
          "metadata": {
            "tags": [],
            "needs_background": "light"
          }
        }
      ]
    },
    {
      "cell_type": "code",
      "metadata": {
        "id": "Wn5mcLlpHSuh",
        "colab_type": "code",
        "colab": {
          "base_uri": "https://localhost:8080/",
          "height": 282
        },
        "outputId": "61e8384c-b07d-4ac9-a102-9d796271cea4"
      },
      "source": [
        "# or use barh for horizontal bar charts\n",
        "plt.figure()\n",
        "xvals = range(len(linear_data))\n",
        "plt.barh(xvals, linear_data, height = 0.3, color='b')\n",
        "plt.barh(xvals, exp, height = 0.3, left=linear_data, color='r')"
      ],
      "execution_count": 128,
      "outputs": [
        {
          "output_type": "execute_result",
          "data": {
            "text/plain": [
              "<BarContainer object of 5 artists>"
            ]
          },
          "metadata": {
            "tags": []
          },
          "execution_count": 128
        },
        {
          "output_type": "display_data",
          "data": {
            "image/png": "[encoded data removed]",
            "text/plain": [
              "<Figure size 432x288 with 1 Axes>"
            ]
          },
          "metadata": {
            "tags": [],
            "needs_background": "light"
          }
        }
      ]
    },
    {
      "cell_type": "code",
      "metadata": {
        "id": "KpomAvvBI0yz",
        "colab_type": "code",
        "colab": {
          "base_uri": "https://localhost:8080/",
          "height": 296
        },
        "outputId": "8db00158-d665-4a95-c5e9-9ec4e258446b"
      },
      "source": [
        "import matplotlib.pyplot as plt\n",
        "import numpy as np\n",
        "\n",
        "plt.figure()\n",
        "\n",
        "languages =['Python', 'SQL', 'Java', 'C++', 'JavaScript']\n",
        "pos = np.arange(len(languages))\n",
        "popularity = [56, 39, 34, 34, 29]\n",
        "\n",
        "plt.bar(pos, popularity, align='center')\n",
        "plt.xticks(pos, languages)\n",
        "plt.ylabel('% Popularity')\n",
        "plt.title('Top 5 Languages for Math & Data \\nby % popularity on Stack Overflow', alpha=0.8)\n",
        "\n",
        "bars = plt.bar(pos, popularity, align='center',linewidth=0,color='lightslategray')\n",
        "bars[0].set_color('blue')\n",
        "\n",
        "# remove all the ticks (both axes), and tick labels on the Y axis\n",
        "plt.tick_params(top='off', bottom='off', left='off', right='off', labelleft='off', labelbottom='on')\n",
        "plt.show()"
      ],
      "execution_count": 132,
      "outputs": [
        {
          "output_type": "display_data",
          "data": {
            "image/png": "[encoded data removed]",
            "text/plain": [
              "<Figure size 432x288 with 1 Axes>"
            ]
          },
          "metadata": {
            "tags": [],
            "needs_background": "light"
          }
        }
      ]
    },
    {
      "cell_type": "code",
      "metadata": {
        "id": "6kxJB-9EJHPc",
        "colab_type": "code",
        "colab": {
          "base_uri": "https://localhost:8080/",
          "height": 296
        },
        "outputId": "f841339b-5b55-4e85-fe76-9d7aaf947698"
      },
      "source": [
        "import matplotlib.pyplot as plt\n",
        "import numpy as np\n",
        "\n",
        "plt.figure()\n",
        "\n",
        "languages =['Python', 'SQL', 'Java', 'C++', 'JavaScript']\n",
        "pos = np.arange(len(languages))\n",
        "popularity = [56, 39, 34, 34, 29]\n",
        "\n",
        "plt.bar(pos, popularity, align='center')\n",
        "plt.xticks(pos, languages)\n",
        "plt.ylabel('% Popularity')\n",
        "plt.title('Top 5 Languages for Math & Data \\nby % popularity on Stack Overflow', alpha=0.8)\n",
        "\n",
        "# remove all the ticks (both axes), and tick labels on the Y axis\n",
        "plt.tick_params(top='off', bottom='off', left='off', right='off', labelleft='off', labelbottom='on')\n",
        "for spine in plt.gca().spines.values():\n",
        "    spine.set_visible(False)\n",
        "\n",
        "for bar in bars:\n",
        "    plt.gca().text(bar.get_x() + bar.get_width()/2, bar.get_height() - 5, str(int(bar.get_height())) + '%', \n",
        "                 ha='center', color='w', fontsize=11)\n",
        "plt.show()"
      ],
      "execution_count": 133,
      "outputs": [
        {
          "output_type": "display_data",
          "data": {
            "image/png": "[encoded data removed]",
            "text/plain": [
              "<Figure size 432x288 with 1 Axes>"
            ]
          },
          "metadata": {
            "tags": [],
            "needs_background": "light"
          }
        }
      ]
    }
  ]
}
